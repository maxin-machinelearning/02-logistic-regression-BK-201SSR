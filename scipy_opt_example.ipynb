{
 "cells": [
  {
   "cell_type": "code",
   "execution_count": 38,
   "metadata": {},
   "outputs": [],
   "source": [
    "from scipy.optimize import minimize\n",
    "import numpy as np"
   ]
  },
  {
   "cell_type": "markdown",
   "metadata": {},
   "source": [
    "$\\min f(x) = x^2$"
   ]
  },
  {
   "cell_type": "code",
   "execution_count": 39,
   "metadata": {},
   "outputs": [],
   "source": [
    "def f1(x):\n",
    "    return x**2"
   ]
  },
  {
   "cell_type": "code",
   "execution_count": 41,
   "metadata": {},
   "outputs": [],
   "source": [
    "res = minimize(f1, x0 = 100)"
   ]
  },
  {
   "cell_type": "code",
   "execution_count": 42,
   "metadata": {},
   "outputs": [
    {
     "data": {
      "text/plain": [
       "      fun: 5.552074997367714e-17\n",
       " hess_inv: array([[0.50000004]])\n",
       "      jac: array([-1.28826571e-12])\n",
       "  message: 'Optimization terminated successfully.'\n",
       "     nfev: 14\n",
       "      nit: 4\n",
       "     njev: 7\n",
       "   status: 0\n",
       "  success: True\n",
       "        x: array([-7.45122473e-09])"
      ]
     },
     "execution_count": 42,
     "metadata": {},
     "output_type": "execute_result"
    }
   ],
   "source": [
    "res"
   ]
  },
  {
   "cell_type": "markdown",
   "metadata": {},
   "source": [
    "$\\min_{x} f(x,a) = (a * x)^2$"
   ]
  },
  {
   "cell_type": "code",
   "execution_count": 52,
   "metadata": {},
   "outputs": [],
   "source": [
    "def f2(x,a):\n",
    "    return (a.dot(x))**2\n",
    "    # return (a * x)**2"
   ]
  },
  {
   "cell_type": "code",
   "execution_count": 60,
   "metadata": {},
   "outputs": [],
   "source": [
    "a = np.array([1,2,3])\n",
    "x0 = np.random.rand(3)\n",
    "\n",
    "res = minimize(f2,x0 = [1,2,3],args=a, tol=1e-20)"
   ]
  },
  {
   "cell_type": "code",
   "execution_count": 61,
   "metadata": {},
   "outputs": [
    {
     "data": {
      "text/plain": [
       "      fun: 1.4009978770277373e-16\n",
       " hess_inv: array([[ 14.21087403,   9.7089145 , -10.5058796 ],\n",
       "       [  9.7089145 ,   8.02291748,  -8.05799181],\n",
       "       [-10.5058796 ,  -8.05799181,   8.34366415]])\n",
       "      jac: array([3.85739124e-08, 1.06950147e-07, 2.05128704e-07])\n",
       "  message: 'Desired error not necessarily achieved due to precision loss.'\n",
       "     nfev: 232\n",
       "      nit: 5\n",
       "     njev: 55\n",
       "   status: 2\n",
       "  success: False\n",
       "        x: array([ 1.38725238e-06, -8.44877409e-07,  1.04779604e-07])"
      ]
     },
     "execution_count": 61,
     "metadata": {},
     "output_type": "execute_result"
    }
   ],
   "source": [
    "res"
   ]
  },
  {
   "cell_type": "markdown",
   "metadata": {},
   "source": [
    "$\\min_{w} \\| X w - y \\|^2$"
   ]
  },
  {
   "cell_type": "code",
   "execution_count": 64,
   "metadata": {},
   "outputs": [],
   "source": [
    "def forward(w,X):\n",
    "    return X.dot(w)\n",
    "\n",
    "def loss(w,X,y):\n",
    "    return sum((forward(w,X) - y)**2)\n"
   ]
  },
  {
   "cell_type": "code",
   "execution_count": 65,
   "metadata": {},
   "outputs": [],
   "source": [
    "X = np.linspace(-1,1,100)\n",
    "y = X * 2.4\n",
    "X = X.reshape(-1,1)"
   ]
  },
  {
   "cell_type": "code",
   "execution_count": 66,
   "metadata": {},
   "outputs": [],
   "source": [
    "res = minimize(loss,x0 = -1,args=(X,y))"
   ]
  },
  {
   "cell_type": "code",
   "execution_count": 67,
   "metadata": {},
   "outputs": [
    {
     "data": {
      "text/plain": [
       "      fun: 1.887745526679279e-15\n",
       " hess_inv: array([[0.01470297]])\n",
       "      jac: array([9.97312292e-13])\n",
       "  message: 'Optimization terminated successfully.'\n",
       "     nfev: 8\n",
       "      nit: 3\n",
       "     njev: 4\n",
       "   status: 0\n",
       "  success: True\n",
       "        x: array([2.39999999])"
      ]
     },
     "execution_count": 67,
     "metadata": {},
     "output_type": "execute_result"
    }
   ],
   "source": [
    "res"
   ]
  },
  {
   "cell_type": "code",
   "execution_count": 68,
   "metadata": {},
   "outputs": [
    {
     "data": {
      "text/plain": [
       "array([-7.45056594e-09])"
      ]
     },
     "execution_count": 68,
     "metadata": {},
     "output_type": "execute_result"
    }
   ],
   "source": [
    "res.x - 2.4"
   ]
  },
  {
   "cell_type": "markdown",
   "metadata": {},
   "source": [
    "- 思考: 用 `minimize` 训练神经网络\n",
    "\n",
    "思路：\n",
    "- 实现 `forward`\n",
    "```python\n",
    "def forward(params,X):\n",
    "    return 神经网络的输出值 y\n",
    "```\n",
    "(`params` 甚至可以是`dict`,`list`)\n",
    "\n",
    "- 实现 `loss`\n",
    "\n",
    "```python\n",
    "def loss(params,X,y):\n",
    "    return np.mean((forward(params,X) - y) **2)\n",
    "```\n",
    "\n",
    "- 调用 `minimize` \n",
    "\n",
    "\n",
    "```python\n",
    "res = minimize(loss,x0 = params0,args = (X,y),tol = 1e-10)\n",
    "```"
   ]
  },
  {
   "cell_type": "code",
   "execution_count": null,
   "metadata": {},
   "outputs": [],
   "source": []
  }
 ],
 "metadata": {
  "kernelspec": {
   "display_name": "Python 3.9.12 ('base')",
   "language": "python",
   "name": "python3"
  },
  "language_info": {
   "codemirror_mode": {
    "name": "ipython",
    "version": 3
   },
   "file_extension": ".py",
   "mimetype": "text/x-python",
   "name": "python",
   "nbconvert_exporter": "python",
   "pygments_lexer": "ipython3",
   "version": "3.9.12"
  },
  "orig_nbformat": 4,
  "vscode": {
   "interpreter": {
    "hash": "716fe4f7d4cbe2366a74b2e44f40b7439720f63ee6f45241697ead41e44dc7e6"
   }
  }
 },
 "nbformat": 4,
 "nbformat_minor": 2
}
